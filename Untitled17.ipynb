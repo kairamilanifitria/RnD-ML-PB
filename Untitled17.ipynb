{
  "nbformat": 4,
  "nbformat_minor": 0,
  "metadata": {
    "colab": {
      "provenance": [],
      "authorship_tag": "ABX9TyNOvqFAbxh5J42GHpJAA24B",
      "include_colab_link": true
    },
    "kernelspec": {
      "name": "python3",
      "display_name": "Python 3"
    },
    "language_info": {
      "name": "python"
    }
  },
  "cells": [
    {
      "cell_type": "markdown",
      "metadata": {
        "id": "view-in-github",
        "colab_type": "text"
      },
      "source": [
        "<a href=\"https://colab.research.google.com/github/kairamilanifitria/RnD-ML-PB/blob/main/Untitled17.ipynb\" target=\"_parent\"><img src=\"https://colab.research.google.com/assets/colab-badge.svg\" alt=\"Open In Colab\"/></a>"
      ]
    },
    {
      "cell_type": "code",
      "execution_count": null,
      "metadata": {
        "id": "GVDR7BLizKkO"
      },
      "outputs": [],
      "source": [
        "import json\n",
        "\n",
        "# File path\n",
        "file_path = \"/content/drive/MyDrive/scraping_file/results-total-renting.jsonl\"\n",
        "\n",
        "# Target URL to search\n",
        "target_url = \"https://totalrenting.es/fichas-tecnicas/mitsubishi/carisma/carisma-1995/mitsubishi-carisma-hatchback-1-8-16v-gdi-122-cv/\"\n",
        "\n",
        "# Open and search through JSONL\n",
        "result = None\n",
        "with open(file_path, \"r\", encoding=\"utf-8\") as f:\n",
        "    for line in f:\n",
        "        try:\n",
        "            record = json.loads(line.strip())\n",
        "            # Check if the record contains the target URL\n",
        "            if target_url in str(record.values()) or target_url in str(record):\n",
        "                result = record\n",
        "                break\n",
        "        except json.JSONDecodeError:\n",
        "            continue\n",
        "\n",
        "# Function to save the result to a JSON file\n",
        "def save_result_to_json(data, output_filename=\"found_record.json\"):\n",
        "    \"\"\"Saves a dictionary to a JSON file.\"\"\"\n",
        "    with open(output_filename, \"w\", encoding=\"utf-8\") as f:\n",
        "        json.dump(data, f, indent=2, ensure_ascii=False)\n",
        "    print(f\"✅ Result saved to {output_filename}\")\n",
        "\n",
        "# Save result if found\n",
        "if result:\n",
        "    print(\"✅ Found record:\")\n",
        "    # print(json.dumps(result, indent=2, ensure_ascii=False)) # Uncomment to print to console\n",
        "    save_result_to_json(result)\n",
        "else:\n",
        "    print(\"❌ URL not found in the file.\")"
      ]
    }
  ]
}