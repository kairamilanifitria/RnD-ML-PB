{
  "nbformat": 4,
  "nbformat_minor": 0,
  "metadata": {
    "colab": {
      "provenance": [],
      "include_colab_link": true
    },
    "kernelspec": {
      "name": "python3",
      "display_name": "Python 3"
    },
    "language_info": {
      "name": "python"
    }
  },
  "cells": [
    {
      "cell_type": "markdown",
      "metadata": {
        "id": "view-in-github",
        "colab_type": "text"
      },
      "source": [
        "<a href=\"https://colab.research.google.com/github/kairamilanifitria/RnD-ML-PB/blob/main/MOVING_DATA.ipynb\" target=\"_parent\"><img src=\"https://colab.research.google.com/assets/colab-badge.svg\" alt=\"Open In Colab\"/></a>"
      ]
    },
    {
      "cell_type": "code",
      "source": [
        "!apt-get -y install postgresql-client"
      ],
      "metadata": {
        "id": "pTUwNCCU8gip"
      },
      "execution_count": null,
      "outputs": []
    },
    {
      "cell_type": "code",
      "source": [
        "import os\n",
        "\n",
        "os.environ[\"SRC_HOST\"] = \"aws-1-ap-southeast-1.pooler.supabase.com\"\n",
        "os.environ[\"SRC_DB\"] = \"postgres\"\n",
        "os.environ[\"SRC_USER\"] = \"postgres.kxuzwqoeocgvwamamqbx\"\n",
        "os.environ[\"SRC_PASS\"] = \"SEO_seo_530\"\n",
        "\n",
        "os.environ[\"DEST_HOST\"] = \"aws-1-ap-southeast-1.pooler.supabase.com\"\n",
        "os.environ[\"DEST_DB\"] = \"postgres\"\n",
        "os.environ[\"DEST_USER\"] = \"postgres.jgcvpaucdcpnabjampij\"\n",
        "os.environ[\"DEST_PASS\"] = \"SEO-Gen-Clusters\""
      ],
      "metadata": {
        "id": "ONU1O7YMqu0m"
      },
      "execution_count": 2,
      "outputs": []
    },
    {
      "cell_type": "code",
      "source": [
        "!PGPASSWORD=$SRC_PASS psql \\\n",
        "  -h $SRC_HOST -U $SRC_USER -d $SRC_DB \\\n",
        "  -c \"\\COPY public.cluster_macro TO 'cluster_macro.csv' WITH CSV HEADER\""
      ],
      "metadata": {
        "colab": {
          "base_uri": "https://localhost:8080/"
        },
        "id": "UZb5zcN7rj1y",
        "outputId": "ef30410c-da81-4fab-824c-e5126c9b0de6"
      },
      "execution_count": 11,
      "outputs": [
        {
          "output_type": "stream",
          "name": "stdout",
          "text": [
            "COPY 69\n"
          ]
        }
      ]
    },
    {
      "cell_type": "code",
      "source": [
        "!PGPASSWORD=$DEST_PASS psql \\\n",
        "  -h $DEST_HOST -U $DEST_USER -d $DEST_DB \\\n",
        "  -c \"\\COPY public.cluster_macro FROM 'cluster_macro.csv' WITH CSV HEADER\""
      ],
      "metadata": {
        "colab": {
          "base_uri": "https://localhost:8080/"
        },
        "id": "yi5ste-srp09",
        "outputId": "106a935d-91d6-4121-b4eb-7c29bf4a0be9"
      },
      "execution_count": 12,
      "outputs": [
        {
          "output_type": "stream",
          "name": "stdout",
          "text": [
            "COPY 69\n"
          ]
        }
      ]
    },
    {
      "cell_type": "code",
      "source": [],
      "metadata": {
        "id": "0Sa8XRXdtd0g"
      },
      "execution_count": null,
      "outputs": []
    }
  ]
}